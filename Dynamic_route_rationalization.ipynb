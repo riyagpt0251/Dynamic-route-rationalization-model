{
  "nbformat": 4,
  "nbformat_minor": 0,
  "metadata": {
    "colab": {
      "provenance": [],
      "authorship_tag": "ABX9TyOTfj5VbvyMTRn7qGFE9GFz",
      "include_colab_link": true
    },
    "kernelspec": {
      "name": "python3",
      "display_name": "Python 3"
    },
    "language_info": {
      "name": "python"
    }
  },
  "cells": [
    {
      "cell_type": "markdown",
      "metadata": {
        "id": "view-in-github",
        "colab_type": "text"
      },
      "source": [
        "<a href=\"https://colab.research.google.com/github/riyagpt0251/Dynamic-route-rationalization-model/blob/main/Dynamic_route_rationalization.ipynb\" target=\"_parent\"><img src=\"https://colab.research.google.com/assets/colab-badge.svg\" alt=\"Open In Colab\"/></a>"
      ]
    },
    {
      "cell_type": "markdown",
      "source": [
        "import necessary libraries"
      ],
      "metadata": {
        "id": "KCgeXJFWCsQF"
      }
    },
    {
      "cell_type": "code",
      "source": [
        "import requests\n",
        "import pandas as pd\n",
        "import numpy as np\n",
        "from sklearn.model_selection import train_test_split\n",
        "from sklearn.ensemble import RandomForestRegressor\n",
        "from sklearn.metrics import mean_absolute_error\n",
        "\n",
        "# Step 1: Create a Sample Dataset\n",
        "def create_sample_data():\n",
        "    \"\"\"\n",
        "    Generate a sample dataset for training the ML model.\n",
        "    \"\"\"\n",
        "    np.random.seed(42)\n",
        "    data = {\n",
        "        \"current_speed\": np.random.randint(10, 100, 100),\n",
        "        \"free_flow_speed\": np.random.randint(20, 120, 100),\n",
        "        \"confidence\": np.random.uniform(0.5, 1.0, 100),\n",
        "        \"road_length\": np.random.randint(1, 20, 100),\n",
        "        \"travel_time\": np.random.randint(5, 50, 100),  # Target variable\n",
        "    }\n",
        "    return pd.DataFrame(data)\n",
        "\n",
        "# Step 2: Train a Machine Learning Model\n",
        "def train_model(df):\n",
        "    \"\"\"\n",
        "    Train a machine learning model to predict travel time.\n",
        "    \"\"\"\n",
        "    # Features and target\n",
        "    X = df.drop(\"travel_time\", axis=1)\n",
        "    y = df[\"travel_time\"]\n",
        "\n",
        "    # Split the data into training and testing sets\n",
        "    X_train, X_test, y_train, y_test = train_test_split(X, y, test_size=0.2, random_state=42)\n",
        "\n",
        "    # Train a Random Forest Regressor\n",
        "    model = RandomForestRegressor(n_estimators=100, random_state=42)\n",
        "    model.fit(X_train, y_train)\n",
        "\n",
        "    # Evaluate the model\n",
        "    y_pred = model.predict(X_test)\n",
        "    mae = mean_absolute_error(y_test, y_pred)\n",
        "    print(f\"Mean Absolute Error: {mae}\")\n",
        "\n",
        "    return model\n",
        "\n",
        "# Step 3: Make Predictions\n",
        "def predict_travel_time(model, new_data):\n",
        "    \"\"\"\n",
        "    Predict travel time for new traffic data.\n",
        "    \"\"\"\n",
        "    prediction = model.predict(new_data)\n",
        "    return prediction\n",
        "\n",
        "# Main Function\n",
        "if __name__ == \"__main__\":\n",
        "    # Generate sample data\n",
        "    df = create_sample_data()\n",
        "\n",
        "    # Train the model\n",
        "    print(\"Training the model...\")\n",
        "    model = train_model(df)\n",
        "\n",
        "    # Predict travel time for new data\n",
        "    new_data = pd.DataFrame({\n",
        "        \"current_speed\": [50],\n",
        "        \"free_flow_speed\": [70],\n",
        "        \"confidence\": [0.9],\n",
        "        \"road_length\": [10],\n",
        "    })\n",
        "    print(\"Predicting travel time...\")\n",
        "    predicted_time = predict_travel_time(model, new_data)\n",
        "    print(f\"Predicted Travel Time: {predicted_time[0]} minutes\")\n"
      ],
      "metadata": {
        "colab": {
          "base_uri": "https://localhost:8080/"
        },
        "id": "1buUmjstFcGC",
        "outputId": "80e61dcd-290a-41b7-81aa-2795cf707155"
      },
      "execution_count": 19,
      "outputs": [
        {
          "output_type": "stream",
          "name": "stdout",
          "text": [
            "Training the model...\n",
            "Mean Absolute Error: 7.212000000000001\n",
            "Predicting travel time...\n",
            "Predicted Travel Time: 30.05 minutes\n"
          ]
        }
      ]
    }
  ]
}